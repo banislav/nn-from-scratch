{
 "cells": [
  {
   "cell_type": "code",
   "execution_count": 37,
   "id": "39d44346-f3c6-4a45-952d-9b6d767396ed",
   "metadata": {},
   "outputs": [],
   "source": [
    "import pandas as pd\n",
    "import numpy as np\n",
    "\n",
    "from sklearn.datasets import load_iris\n",
    "from sklearn.model_selection import train_test_split\n",
    "from scipy.special import softmax\n",
    "\n",
    "from dense_layer import DenseLayer\n",
    "from relu_layer import ReluLayer"
   ]
  },
  {
   "cell_type": "code",
   "execution_count": 20,
   "id": "277fc91d-9d0c-463e-a7c3-fe9d9a0d2614",
   "metadata": {},
   "outputs": [],
   "source": [
    "iris = load_iris()\n",
    "X, y = iris.data, iris.target"
   ]
  },
  {
   "cell_type": "code",
   "execution_count": 22,
   "id": "103a7c7e-89ec-4278-8d9c-a2a7a0aa0880",
   "metadata": {},
   "outputs": [],
   "source": [
    "X_train, X_test, y_train, y_test = train_test_split(X, y, shuffle=True, random_state=42, stratify=y, test_size=0.25)"
   ]
  },
  {
   "cell_type": "code",
   "execution_count": 38,
   "id": "3c283846-25cc-4e0a-ae75-66cd07df79b9",
   "metadata": {},
   "outputs": [],
   "source": [
    "def calculate_grads(X, y):\n",
    "    probs = softmax(X)\n",
    "    n = X.shape[0]\n",
    "    probs[range(n), y] -= 1\n",
    "    return probs / n"
   ]
  },
  {
   "cell_type": "code",
   "execution_count": 63,
   "id": "d0135fc2-9077-4ca7-95a7-59d637c492b9",
   "metadata": {},
   "outputs": [],
   "source": [
    "class Network:\n",
    "    def __init__(self, input_features: int) -> None:\n",
    "        self.layers = []\n",
    "        self.layers.append(DenseLayer(input_features, 40))\n",
    "        self.layers.append(ReluLayer())\n",
    "        self.layers.append(DenseLayer(40, 20))\n",
    "        self.layers.append(ReluLayer())\n",
    "        self.layers.append(DenseLayer(20, 3))\n",
    "        \n",
    "    def forward(self, X: np.ndarray):\n",
    "        activations = []\n",
    "        entr = X\n",
    "    \n",
    "        for layer in self.layers:\n",
    "            activations.append(layer.forward(entr))\n",
    "            entr = activations[-1]\n",
    "    \n",
    "        return activations\n",
    "    \n",
    "    def predict(self, X: np.ndarray) -> np.ndarray:\n",
    "        acts = softmax(forward(X))\n",
    "        return acts\n",
    "    \n",
    "    def fit_batch(self, X_batch: np.ndarray, y_batch: np.ndarray) -> None:\n",
    "        activations = self.layers.forward(X_batch)\n",
    "    \n",
    "        grads = calculate_grads(activations[-1], y_batch)\n",
    "    \n",
    "        for i in reversed(range(len(self.layers))):\n",
    "            layer = self.layers[i]\n",
    "            grads = layer.backward(activations[i], grads)"
   ]
  },
  {
   "cell_type": "code",
   "execution_count": 83,
   "id": "7895a1e4-7e0d-4caf-a36d-15b6d821de4d",
   "metadata": {},
   "outputs": [],
   "source": [
    "def iterate_batches(X, y, batch_size) -> np.ndarray:\n",
    "    div = int(X.shape[0] / batch_size)\n",
    "    while X.shape[0] % div != 0:\n",
    "        div += 1\n",
    "        \n",
    "    X_split = np.array(np.split(X, div))\n",
    "    y_split = np.array(np.split(y, div))\n",
    "    \n",
    "    \n",
    "    return X_split, y_split"
   ]
  },
  {
   "cell_type": "code",
   "execution_count": 70,
   "id": "e7cc8e0e-b2b4-44ff-ba2e-0670845dd8da",
   "metadata": {},
   "outputs": [
    {
     "ename": "TypeError",
     "evalue": "iterate_batches() missing 2 required positional arguments: 'X' and 'y'",
     "output_type": "error",
     "traceback": [
      "\u001b[0;31m---------------------------------------------------------------------------\u001b[0m",
      "\u001b[0;31mTypeError\u001b[0m                                 Traceback (most recent call last)",
      "Cell \u001b[0;32mIn [70], line 3\u001b[0m\n\u001b[1;32m      1\u001b[0m network \u001b[38;5;241m=\u001b[39m Network(X_train\u001b[38;5;241m.\u001b[39mshape[\u001b[38;5;241m1\u001b[39m])\n\u001b[0;32m----> 3\u001b[0m \u001b[38;5;28;01mfor\u001b[39;00m X_batch, y_batch \u001b[38;5;129;01min\u001b[39;00m iterate_batches(batch_size\u001b[38;5;241m=\u001b[39m\u001b[38;5;241m16\u001b[39m):\n\u001b[1;32m      4\u001b[0m     network\u001b[38;5;241m.\u001b[39mfit_batch()\n",
      "\u001b[0;31mTypeError\u001b[0m: iterate_batches() missing 2 required positional arguments: 'X' and 'y'"
     ]
    }
   ],
   "source": [
    "network = Network(X_train.shape[1])\n",
    "\n",
    "for X_batch, y_batch in iterate_batches(X_train, y_train, batch_size=16):\n",
    "    network.fit_batch(X_batch, y_batch)\n",
    "    "
   ]
  },
  {
   "cell_type": "code",
   "execution_count": null,
   "id": "a21dd323-84e4-4e78-bce7-a14dcf8114bd",
   "metadata": {},
   "outputs": [],
   "source": []
  }
 ],
 "metadata": {
  "kernelspec": {
   "display_name": "sexozavr-ml",
   "language": "python",
   "name": "sexozavr-ml"
  },
  "language_info": {
   "codemirror_mode": {
    "name": "ipython",
    "version": 3
   },
   "file_extension": ".py",
   "mimetype": "text/x-python",
   "name": "python",
   "nbconvert_exporter": "python",
   "pygments_lexer": "ipython3",
   "version": "3.9.13"
  }
 },
 "nbformat": 4,
 "nbformat_minor": 5
}
