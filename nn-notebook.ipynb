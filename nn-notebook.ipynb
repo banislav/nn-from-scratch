{
 "cells": [
  {
   "cell_type": "code",
   "execution_count": 37,
   "id": "39d44346-f3c6-4a45-952d-9b6d767396ed",
   "metadata": {},
   "outputs": [],
   "source": [
    "import pandas as pd\n",
    "import numpy as np\n",
    "\n",
    "from sklearn.datasets import load_iris\n",
    "from sklearn.model_selection import train_test_split\n",
    "from scipy.special import softmax\n",
    "\n",
    "from dense_layer import DenseLayer\n",
    "from relu_layer import ReluLayer"
   ]
  },
  {
   "cell_type": "code",
   "execution_count": 20,
   "id": "277fc91d-9d0c-463e-a7c3-fe9d9a0d2614",
   "metadata": {},
   "outputs": [],
   "source": [
    "iris = load_iris()\n",
    "X, y = iris.data, iris.target"
   ]
  },
  {
   "cell_type": "code",
   "execution_count": 22,
   "id": "103a7c7e-89ec-4278-8d9c-a2a7a0aa0880",
   "metadata": {},
   "outputs": [],
   "source": [
    "X_train, X_test, y_train, y_test = train_test_split(X, y, shuffle=True, random_state=42, stratify=y, test_size=0.25)"
   ]
  },
  {
   "cell_type": "code",
   "execution_count": 38,
   "id": "3c283846-25cc-4e0a-ae75-66cd07df79b9",
   "metadata": {},
   "outputs": [],
   "source": [
    "def calculate_grads(X, y):\n",
    "    probs = softmax(X)\n",
    "    n = X.shape[0]\n",
    "    probs[range(n), y] -= 1\n",
    "    return probs / n"
   ]
  },
  {
   "cell_type": "code",
   "execution_count": 27,
   "id": "88e0e700-69b6-4d4a-b0fc-9d38b646caba",
   "metadata": {},
   "outputs": [],
   "source": [
    "network = []\n",
    "network.append(DenseLayer(X_train.shape[1], 40))\n",
    "network.append(ReluLayer())\n",
    "network.append(DenseLayer(40, 20))\n",
    "network.append(ReluLayer())\n",
    "network.append(DenseLayer(20, 3))"
   ]
  },
  {
   "cell_type": "code",
   "execution_count": 39,
   "id": "3f93acf3-29b2-4f65-8b6f-cdd36e195730",
   "metadata": {},
   "outputs": [],
   "source": [
    "def forward(X):\n",
    "    activations = []\n",
    "    entr = X\n",
    "    \n",
    "    for layer in network:\n",
    "        activations.append(layer.forward(entr))\n",
    "        entr = activations[-1]\n",
    "    \n",
    "    return activations"
   ]
  },
  {
   "cell_type": "code",
   "execution_count": null,
   "id": "52c9c204-258e-48a3-b34e-4ce0dbe996a2",
   "metadata": {},
   "outputs": [],
   "source": [
    "def predict(X):\n",
    "    acts = softmax(forward(X))\n",
    "    retur"
   ]
  },
  {
   "cell_type": "code",
   "execution_count": null,
   "id": "07b4c35c-cc47-4088-807a-144bba6ec357",
   "metadata": {},
   "outputs": [],
   "source": []
  }
 ],
 "metadata": {
  "kernelspec": {
   "display_name": "sexozavr-ml",
   "language": "python",
   "name": "sexozavr-ml"
  },
  "language_info": {
   "codemirror_mode": {
    "name": "ipython",
    "version": 3
   },
   "file_extension": ".py",
   "mimetype": "text/x-python",
   "name": "python",
   "nbconvert_exporter": "python",
   "pygments_lexer": "ipython3",
   "version": "3.9.13"
  }
 },
 "nbformat": 4,
 "nbformat_minor": 5
}
