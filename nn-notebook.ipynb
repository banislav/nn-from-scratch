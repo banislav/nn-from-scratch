{
 "cells": [
  {
   "cell_type": "code",
   "execution_count": 5,
   "id": "39d44346-f3c6-4a45-952d-9b6d767396ed",
   "metadata": {},
   "outputs": [],
   "source": [
    "import pandas as pd\n",
    "import numpy as np\n",
    "from dense_layer import DenseLayer\n",
    "from relu_layer import ReluLayer"
   ]
  },
  {
   "cell_type": "code",
   "execution_count": null,
   "id": "277fc91d-9d0c-463e-a7c3-fe9d9a0d2614",
   "metadata": {},
   "outputs": [],
   "source": [
    "dense = DenseLayer()"
   ]
  }
 ],
 "metadata": {
  "kernelspec": {
   "display_name": "sexozavr-ml",
   "language": "python",
   "name": "sexozavr-ml"
  },
  "language_info": {
   "codemirror_mode": {
    "name": "ipython",
    "version": 3
   },
   "file_extension": ".py",
   "mimetype": "text/x-python",
   "name": "python",
   "nbconvert_exporter": "python",
   "pygments_lexer": "ipython3",
   "version": "3.9.13"
  }
 },
 "nbformat": 4,
 "nbformat_minor": 5
}
